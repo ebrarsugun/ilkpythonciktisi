{
  "nbformat": 4,
  "nbformat_minor": 0,
  "metadata": {
    "colab": {
      "provenance": []
    },
    "kernelspec": {
      "name": "python3",
      "display_name": "Python 3"
    },
    "language_info": {
      "name": "python"
    }
  },
  "cells": [
    {
      "cell_type": "code",
      "execution_count": null,
      "metadata": {
        "colab": {
          "base_uri": "https://localhost:8080/"
        },
        "id": "4hAXBCXvsSFd",
        "outputId": "e30a4763-43eb-4c02-c81f-d9f1b6d594d2"
      },
      "outputs": [
        {
          "output_type": "stream",
          "name": "stdout",
          "text": [
            "Hello world\n"
          ]
        }
      ],
      "source": [
        "print('Hello world') #print ekrana çıktı veren bir koddur. çift tırnak türkçe karakteri çıktı almaya yarar."
      ]
    },
    {
      "cell_type": "code",
      "source": [
        "import sys # import python programlama dilinde kütüphane eklemeye yarayan bir kod bloğudur.\n",
        "print(sys.version)"
      ],
      "metadata": {
        "colab": {
          "base_uri": "https://localhost:8080/"
        },
        "id": "HekgkoIhtA1R",
        "outputId": "08644c1b-6412-4e00-99fc-fd4d8b6e316d"
      },
      "execution_count": null,
      "outputs": [
        {
          "output_type": "stream",
          "name": "stdout",
          "text": [
            "3.10.12 (main, Jul 29 2024, 16:56:48) [GCC 11.4.0]\n"
          ]
        }
      ]
    },
    {
      "cell_type": "code",
      "source": [
        "# Google Colab'a Google Drive Bağlantısı.\n",
        "from google.colab import drive\n",
        "drive.mount('/content/drive')"
      ],
      "metadata": {
        "colab": {
          "base_uri": "https://localhost:8080/"
        },
        "id": "VUyWuLNMvwIl",
        "outputId": "1a963ae3-3cae-47ac-f2cc-a4323acfe435"
      },
      "execution_count": null,
      "outputs": [
        {
          "output_type": "stream",
          "name": "stdout",
          "text": [
            "Mounted at /content/drive\n"
          ]
        }
      ]
    },
    {
      "cell_type": "code",
      "source": [
        "import os  # Google Drivedaki dosyaya erişim bağlantısı\n",
        "os.chdir('/content/drive/My Drive/VERIYAPILARI-ISTKA')\n",
        "!pwd"
      ],
      "metadata": {
        "colab": {
          "base_uri": "https://localhost:8080/"
        },
        "id": "QTizGnopv4nc",
        "outputId": "c311bd98-91e0-4b7e-b8ff-374b586b4a61"
      },
      "execution_count": null,
      "outputs": [
        {
          "output_type": "stream",
          "name": "stdout",
          "text": [
            "/content/drive/My Drive/VERIYAPILARI-ISTKA\n"
          ]
        }
      ]
    },
    {
      "cell_type": "code",
      "source": [
        "# Geçerli değişken tanımlaması\n",
        "degisken_1=10\n",
        "Degisken2=20\n",
        "_degisken3=30"
      ],
      "metadata": {
        "id": "K8m7z0ICwIGg"
      },
      "execution_count": null,
      "outputs": []
    },
    {
      "cell_type": "code",
      "source": [
        "# Geçersiz değişken tanımlaması\n",
        "1degisken=40\n",
        "degisken-4=50"
      ],
      "metadata": {
        "colab": {
          "base_uri": "https://localhost:8080/",
          "height": 106
        },
        "id": "Tx_lYabgwjcU",
        "outputId": "c5028b33-4a2e-455f-e7e1-fba3db50936d"
      },
      "execution_count": null,
      "outputs": [
        {
          "output_type": "error",
          "ename": "SyntaxError",
          "evalue": "invalid decimal literal (<ipython-input-10-f10b1456fcfd>, line 2)",
          "traceback": [
            "\u001b[0;36m  File \u001b[0;32m\"<ipython-input-10-f10b1456fcfd>\"\u001b[0;36m, line \u001b[0;32m2\u001b[0m\n\u001b[0;31m    1degisken=40\u001b[0m\n\u001b[0m    ^\u001b[0m\n\u001b[0;31mSyntaxError\u001b[0m\u001b[0;31m:\u001b[0m invalid decimal literal\n"
          ]
        }
      ]
    },
    {
      "cell_type": "code",
      "source": [
        "# Değişken tanımlama işlemi\n",
        "x=5\n",
        "y=\"Merhaba Dünya\"\n",
        "print(x)\n",
        "print(y)\n"
      ],
      "metadata": {
        "colab": {
          "base_uri": "https://localhost:8080/"
        },
        "id": "ghjgQjsPxQWZ",
        "outputId": "1212bb7a-c2e3-4cc9-ee6c-1996a864255b"
      },
      "execution_count": null,
      "outputs": [
        {
          "output_type": "stream",
          "name": "stdout",
          "text": [
            "5\n",
            "Merhaba Dünya\n"
          ]
        }
      ]
    },
    {
      "cell_type": "code",
      "source": [
        "# Integer - Tamsayı tanımlaması\n",
        "a=10\n",
        "print(type(a))"
      ],
      "metadata": {
        "colab": {
          "base_uri": "https://localhost:8080/"
        },
        "id": "i8yRnQ76yay3",
        "outputId": "4e9607d7-a2b1-4c2e-e89f-5edd4e9ea19c"
      },
      "execution_count": null,
      "outputs": [
        {
          "output_type": "stream",
          "name": "stdout",
          "text": [
            "<class 'int'>\n"
          ]
        }
      ]
    },
    {
      "cell_type": "code",
      "source": [
        "# Float - Ondalıklı sayı tanımlaması\n",
        "b=20.5\n",
        "print(type(b))"
      ],
      "metadata": {
        "colab": {
          "base_uri": "https://localhost:8080/"
        },
        "id": "Fu0lew_2y4_K",
        "outputId": "6769dea1-6a9f-4850-c0b2-cdc9b37cdcf2"
      },
      "execution_count": null,
      "outputs": [
        {
          "output_type": "stream",
          "name": "stdout",
          "text": [
            "<class 'float'>\n"
          ]
        }
      ]
    },
    {
      "cell_type": "code",
      "source": [
        "# int'ten float'a çevirilmesi\n",
        "x=10\n",
        "y=float(x)\n",
        "print(y,type(y))"
      ],
      "metadata": {
        "colab": {
          "base_uri": "https://localhost:8080/"
        },
        "id": "sQdLTBhmz2Ra",
        "outputId": "869a95be-d4ee-4663-c859-248636e2624e"
      },
      "execution_count": null,
      "outputs": [
        {
          "output_type": "stream",
          "name": "stdout",
          "text": [
            "10.0 <class 'float'>\n"
          ]
        }
      ]
    },
    {
      "cell_type": "code",
      "source": [
        "# float'tan int' e çevirme\n",
        "a=12.34\n",
        "b=int(a)\n",
        "print(b,type(b))"
      ],
      "metadata": {
        "colab": {
          "base_uri": "https://localhost:8080/"
        },
        "id": "rXv-6ABe0Qxm",
        "outputId": "6a17f1dc-e738-4b79-9388-d0fac440ebf2"
      },
      "execution_count": null,
      "outputs": [
        {
          "output_type": "stream",
          "name": "stdout",
          "text": [
            "12 <class 'int'>\n"
          ]
        }
      ]
    },
    {
      "cell_type": "code",
      "source": [
        "# String - Metinsel içerik tanımlama\n",
        "c=\"python programlama\"\n",
        "print(c)\n",
        "print(type(c))"
      ],
      "metadata": {
        "colab": {
          "base_uri": "https://localhost:8080/"
        },
        "id": "RfmCNyNK7x9u",
        "outputId": "7a400978-7c7e-4a52-ca6a-9cd4bfd901c5"
      },
      "execution_count": null,
      "outputs": [
        {
          "output_type": "stream",
          "name": "stdout",
          "text": [
            "python programlama\n",
            "<class 'str'>\n"
          ]
        }
      ]
    },
    {
      "cell_type": "code",
      "source": [
        "# Boolean ( True - False ) Doğru - Yanlış tanımlaması\n",
        "d=True\n",
        "e= False\n",
        "print(d)\n",
        "print(type(e))"
      ],
      "metadata": {
        "colab": {
          "base_uri": "https://localhost:8080/"
        },
        "id": "NBhLiN-s8Ge_",
        "outputId": "7021bb3c-42a8-4c1e-91db-2ba82e40ec95"
      },
      "execution_count": null,
      "outputs": [
        {
          "output_type": "stream",
          "name": "stdout",
          "text": [
            "True\n",
            "<class 'bool'>\n"
          ]
        }
      ]
    },
    {
      "cell_type": "code",
      "source": [
        "# List - Liste tanımlama\n",
        "my_list=[1,2,3,4,5]\n",
        "print(type(my_list))\n",
        "print(my_list)"
      ],
      "metadata": {
        "colab": {
          "base_uri": "https://localhost:8080/"
        },
        "id": "SZEbUN5n8ZYx",
        "outputId": "8e7a80df-33af-42b8-f43a-399b53877133"
      },
      "execution_count": null,
      "outputs": [
        {
          "output_type": "stream",
          "name": "stdout",
          "text": [
            "<class 'list'>\n",
            "[1, 2, 3, 4, 5]\n"
          ]
        }
      ]
    },
    {
      "cell_type": "code",
      "source": [
        "# Tuple - Demek tanımlaması\n",
        "my_tuple=(1,2,3,4,5)\n",
        "print(type(my_tuple))\n",
        "print(my_tuple)"
      ],
      "metadata": {
        "colab": {
          "base_uri": "https://localhost:8080/"
        },
        "id": "yrOAdx8n9Ai_",
        "outputId": "c5271351-bf14-4b24-fc16-52b0c6812ed0"
      },
      "execution_count": null,
      "outputs": [
        {
          "output_type": "stream",
          "name": "stdout",
          "text": [
            "<class 'tuple'>\n",
            "(1, 2, 3, 4, 5)\n"
          ]
        }
      ]
    },
    {
      "cell_type": "code",
      "source": [
        "# Dictionary - Sözlük örneği -> Öğrencilerin notlarını tutan bir sözlük\n",
        "notlar={\n",
        "    \"ali\":85,\n",
        "    \"veli\":90,\n",
        "    \"ayşe\":78\n",
        "}\n",
        "notlar [\"fatma\"]=92 # yeni öğrenci ekleme\n",
        "notlar [\"ali\"]=88 #bir öğrencinin notunu güncelleme\n",
        "print (notlar)\n",
        "\n"
      ],
      "metadata": {
        "colab": {
          "base_uri": "https://localhost:8080/"
        },
        "id": "rIADKlSxAe8u",
        "outputId": "653f40e3-7b5c-494b-f76a-57c9f4ac17dd"
      },
      "execution_count": null,
      "outputs": [
        {
          "output_type": "stream",
          "name": "stdout",
          "text": [
            "{'ali': 88, 'veli': 90, 'ayşe': 78, 'fatma': 92}\n"
          ]
        }
      ]
    },
    {
      "cell_type": "code",
      "source": [
        "print(notlar.keys())        #dict_keys(['isim','yas','meslek'])\n",
        "print(notlar.values())      #dict_values(['atmet','26','meslek'])\n",
        "print(notlar.items())       #dict_items([('isim','ahmet),('yas','26'),('meslek','mühendis')])"
      ],
      "metadata": {
        "colab": {
          "base_uri": "https://localhost:8080/"
        },
        "id": "Jn4RgnMNCiV4",
        "outputId": "4750a9a3-af24-4fa2-e8e5-8d3f88b8d82f"
      },
      "execution_count": null,
      "outputs": [
        {
          "output_type": "stream",
          "name": "stdout",
          "text": [
            "dict_keys(['ali', 'veli', 'ayşe', 'fatma'])\n",
            "dict_values([88, 90, 78, 92])\n",
            "dict_items([('ali', 88), ('veli', 90), ('ayşe', 78), ('fatma', 92)])\n"
          ]
        }
      ]
    },
    {
      "cell_type": "code",
      "source": [],
      "metadata": {
        "colab": {
          "base_uri": "https://localhost:8080/"
        },
        "id": "goTJ2A7DCzYS",
        "outputId": "1eb1687a-b6a0-416c-aa1b-6f138f83c2a4"
      },
      "execution_count": null,
      "outputs": [
        {
          "output_type": "stream",
          "name": "stdout",
          "text": [
            "Taş, Kağıt, Makas Oyununa Hoş Geldiniz!\n",
            "Taş, kağıt veya makas seçin: makas\n",
            "Bilgisayarın seçimi: taş\n",
            "Kaybettiniz. Tekrar deneyin!\n"
          ]
        }
      ]
    },
    {
      "cell_type": "code",
      "source": [
        "# Set - Küme örneği -> bir yazılım etkinliğine katılan kişilerin oluşturduğu kümeler\n",
        "kodyazanlar={\"ahmet\",\"mehmet\",\"ayşe\"}\n",
        "kodyazmayanlar={\"ayşe\",\"fatma\",\"veli\"}\n",
        "\n",
        "# Kafasına göre takılan öğrenciler\n",
        "ortak=kodyazanlar.intersection(kodyazmayanlar)\n",
        "print(\"kafasına göre takılan öğrencilerin listesi:\",ortak)\n",
        "\n",
        "# Etkinlikte kod yazmayan öğrencilerin listesi\n",
        "kod_yazmayan=kodyazmayanlar.difference(kodyazanlar)\n",
        "print(\"kod çalışması yapmayan öğrenci listesi:\",kod_yazmayan)\n",
        "\n",
        "# Yazılım eğitiminin öğrenci imza listesi\n",
        "imza_listesi=kodyazanlar.union(kodyazmayanlar)\n",
        "print(\"etlinlik katılımcıları:\",imza_listesi)"
      ],
      "metadata": {
        "colab": {
          "base_uri": "https://localhost:8080/"
        },
        "id": "HZne2bdSEfja",
        "outputId": "2b2d2963-8f53-4064-8834-fd6247f61713"
      },
      "execution_count": null,
      "outputs": [
        {
          "output_type": "stream",
          "name": "stdout",
          "text": [
            "kafasına göre takılan öğrencilerin listesi: {'ayşe'}\n",
            "kod çalışması yapmayan öğrenci listesi: {'fatma', 'veli'}\n",
            "etlinlik katılımcıları: {'mehmet', 'fatma', 'veli', 'ahmet', 'ayşe'}\n"
          ]
        }
      ]
    },
    {
      "cell_type": "code",
      "source": [
        "giris=input(\"bir sayı girin\")\n",
        "try:\n",
        "  num=float(giris)\n",
        "  print(f\"girilen sayı:{num},tipi:{type(num)},\",abs(num))\n",
        "except ValueError:\n",
        "  print(\"Geçersiz veri girdiniz.\")"
      ],
      "metadata": {
        "colab": {
          "base_uri": "https://localhost:8080/"
        },
        "id": "2MD71gznHLF8",
        "outputId": "130073cb-d5aa-4b49-8d47-c3fa5d177b89"
      },
      "execution_count": null,
      "outputs": [
        {
          "output_type": "stream",
          "name": "stdout",
          "text": [
            "bir sayı girin25\n",
            "girilen sayı:25.0,tipi:<class 'float'>, 25.0\n"
          ]
        }
      ]
    },
    {
      "cell_type": "code",
      "source": [],
      "metadata": {
        "id": "lF_vmSTfLPSA"
      },
      "execution_count": null,
      "outputs": []
    }
  ]
}